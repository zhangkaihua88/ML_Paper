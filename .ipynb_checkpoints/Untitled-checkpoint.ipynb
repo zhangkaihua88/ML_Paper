{
 "cells": [
  {
   "cell_type": "code",
   "execution_count": 7,
   "metadata": {
    "ExecuteTime": {
     "end_time": "2020-02-06T12:59:54.409079Z",
     "start_time": "2020-02-06T12:59:54.403095Z"
    }
   },
   "outputs": [],
   "source": [
    "import tensorflow.contrib.layers as layers\n",
    "import tensorflow as tf"
   ]
  },
  {
   "cell_type": "code",
   "execution_count": 10,
   "metadata": {
    "ExecuteTime": {
     "end_time": "2020-02-06T13:01:10.742021Z",
     "start_time": "2020-02-06T13:01:10.728058Z"
    }
   },
   "outputs": [],
   "source": [
    "?layers.maxout"
   ]
  },
  {
   "cell_type": "code",
   "execution_count": 5,
   "metadata": {
    "ExecuteTime": {
     "end_time": "2020-02-06T12:59:30.129833Z",
     "start_time": "2020-02-06T12:59:30.109889Z"
    }
   },
   "outputs": [],
   "source": [
    "def maxout(inputs, num_units, axis=-1, scope=None):\n",
    "    with variable_scope.variable_scope(scope, 'MaxOut', [inputs]):\n",
    "        inputs = ops.convert_to_tensor(inputs)\n",
    "        shape = inputs.get_shape().as_list()\n",
    "        num_channels = shape[axis]\n",
    "        if num_channels % num_units:\n",
    "            raise ValueError('number of features({}) is not '\n",
    "                           'a multiple of num_units({})'.format(\n",
    "                               num_channels, num_units))\n",
    "        shape[axis] = num_units\n",
    "        shape += [num_channels // num_units]\n",
    "\n",
    "        # Dealing with batches with arbitrary sizes\n",
    "        for i in range(len(shape)):\n",
    "            if shape[i] is None:\n",
    "                shape[i] = array_ops.shape(inputs)[i]\n",
    "        outputs = math_ops.reduce_max(\n",
    "            array_ops.reshape(inputs, shape), -1, keepdims=False)\n",
    "        return outputs"
   ]
  },
  {
   "cell_type": "code",
   "execution_count": 9,
   "metadata": {
    "ExecuteTime": {
     "end_time": "2020-02-06T13:01:02.582652Z",
     "start_time": "2020-02-06T13:01:02.551734Z"
    }
   },
   "outputs": [
    {
     "data": {
      "text/plain": [
       "<tf.Tensor 'Reshape_1:0' shape=(9, 10) dtype=int32>"
      ]
     },
     "execution_count": 9,
     "metadata": {},
     "output_type": "execute_result"
    }
   ],
   "source": [
    "a = tf.range(90)\n",
    "a = tf.reshape(a,[-1,10])\n",
    "a"
   ]
  },
  {
   "cell_type": "code",
   "execution_count": 12,
   "metadata": {
    "ExecuteTime": {
     "end_time": "2020-02-06T13:02:28.190842Z",
     "start_time": "2020-02-06T13:02:28.145918Z"
    }
   },
   "outputs": [],
   "source": [
    "b = layers.maxout(a,3,0)"
   ]
  },
  {
   "cell_type": "code",
   "execution_count": 13,
   "metadata": {
    "ExecuteTime": {
     "end_time": "2020-02-06T13:02:31.069012Z",
     "start_time": "2020-02-06T13:02:30.504882Z"
    }
   },
   "outputs": [
    {
     "name": "stdout",
     "output_type": "stream",
     "text": [
      "[[ 2  5  8 11 14 17 20 23 26 29]\n",
      " [32 35 38 41 44 47 50 53 56 59]\n",
      " [62 65 68 71 74 77 80 83 86 89]]\n"
     ]
    }
   ],
   "source": [
    "with tf.Session() as sess:\n",
    "    sess.run(tf.global_variables_initializer())\n",
    "    print(sess.run(b))"
   ]
  },
  {
   "cell_type": "code",
   "execution_count": null,
   "metadata": {},
   "outputs": [],
   "source": []
  }
 ],
 "metadata": {
  "kernelspec": {
   "display_name": "Python [conda env:ML]",
   "language": "python",
   "name": "conda-env-ML-py"
  },
  "language_info": {
   "codemirror_mode": {
    "name": "ipython",
    "version": 3
   },
   "file_extension": ".py",
   "mimetype": "text/x-python",
   "name": "python",
   "nbconvert_exporter": "python",
   "pygments_lexer": "ipython3",
   "version": "3.6.8"
  },
  "toc": {
   "base_numbering": 1,
   "nav_menu": {},
   "number_sections": true,
   "sideBar": true,
   "skip_h1_title": false,
   "title_cell": "Table of Contents",
   "title_sidebar": "Contents",
   "toc_cell": false,
   "toc_position": {},
   "toc_section_display": true,
   "toc_window_display": false
  }
 },
 "nbformat": 4,
 "nbformat_minor": 2
}
