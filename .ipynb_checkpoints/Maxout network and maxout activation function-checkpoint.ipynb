{
 "cells": [
  {
   "cell_type": "code",
   "execution_count": 1,
   "metadata": {
    "ExecuteTime": {
     "end_time": "2020-02-06T15:00:54.107137Z",
     "start_time": "2020-02-06T15:00:44.528748Z"
    }
   },
   "outputs": [],
   "source": [
    "import tensorflow as tf\n",
    "from typeguard import typechecked"
   ]
  },
  {
   "cell_type": "markdown",
   "metadata": {},
   "source": [
    "# maxout network\n",
    "在使用中需要注意输出结果归一化一类的操作，防止因为输出结果过高造成训练失败"
   ]
  },
  {
   "cell_type": "code",
   "execution_count": 2,
   "metadata": {
    "ExecuteTime": {
     "end_time": "2020-02-06T15:00:54.272729Z",
     "start_time": "2020-02-06T15:00:54.116111Z"
    }
   },
   "outputs": [],
   "source": [
    "class Maxoutlayer(tf.keras.layers.Layer):\n",
    "    def __init__(self, k, m):\n",
    "        super(Maxoutlayer, self).__init__()\n",
    "        self.k = int(k)\n",
    "        self.m = int(m)\n",
    "\n",
    "    def build(self, input_shape, dtype=tf.float32):\n",
    "        self.d = input_shape[-1]\n",
    "        print(self.d,input_shape)\n",
    "        self.w = self.add_weight(name='w',\n",
    "                                 shape=(self.d, self.m, self.k),\n",
    "                                 initializer='uniform',\n",
    "                                 dtype=dtype,\n",
    "                                 trainable=True)\n",
    "        self.b = self.add_weight(name='b',\n",
    "                                 shape=(self.m, self.k),\n",
    "                                 initializer='zero',\n",
    "                                 dtype=dtype,\n",
    "                                 trainable=True)\n",
    "        super(Maxoutlayer, self).build(input_shape)\n",
    "#         self.built = True\n",
    "\n",
    "    def call(self, x):\n",
    "        outputs = tf.tensordot(x, self.w, axes=1) + self.b\n",
    "        outputs = tf.reduce_max(outputs, axis=2)\n",
    "        return outputs"
   ]
  },
  {
   "cell_type": "code",
   "execution_count": 3,
   "metadata": {
    "ExecuteTime": {
     "end_time": "2020-02-06T15:00:54.391377Z",
     "start_time": "2020-02-06T15:00:54.283663Z"
    }
   },
   "outputs": [
    {
     "data": {
      "text/plain": [
       "<tf.Tensor: id=6, shape=(9, 10), dtype=float32, numpy=\n",
       "array([[90., 89., 88., 87., 86., 85., 84., 83., 82., 81.],\n",
       "       [80., 79., 78., 77., 76., 75., 74., 73., 72., 71.],\n",
       "       [70., 69., 68., 67., 66., 65., 64., 63., 62., 61.],\n",
       "       [60., 59., 58., 57., 56., 55., 54., 53., 52., 51.],\n",
       "       [50., 49., 48., 47., 46., 45., 44., 43., 42., 41.],\n",
       "       [40., 39., 38., 37., 36., 35., 34., 33., 32., 31.],\n",
       "       [30., 29., 28., 27., 26., 25., 24., 23., 22., 21.],\n",
       "       [20., 19., 18., 17., 16., 15., 14., 13., 12., 11.],\n",
       "       [10.,  9.,  8.,  7.,  6.,  5.,  4.,  3.,  2.,  1.]], dtype=float32)>"
      ]
     },
     "execution_count": 3,
     "metadata": {},
     "output_type": "execute_result"
    }
   ],
   "source": [
    "# 生成多维矩阵\n",
    "a = tf.range(90,0,-1)\n",
    "a = tf.reshape(a,[-1,10])\n",
    "a = tf.cast(a,dtype=tf.float32)\n",
    "a"
   ]
  },
  {
   "cell_type": "code",
   "execution_count": 4,
   "metadata": {
    "ExecuteTime": {
     "end_time": "2020-02-06T15:00:54.463183Z",
     "start_time": "2020-02-06T15:00:54.402347Z"
    }
   },
   "outputs": [
    {
     "name": "stdout",
     "output_type": "stream",
     "text": [
      "10 (9, 10)\n"
     ]
    },
    {
     "data": {
      "text/plain": [
       "<tf.Tensor: id=45, shape=(9, 4), dtype=float32, numpy=\n",
       "array([[14.594133  ,  1.2647249 , 12.365188  , 13.857061  ],\n",
       "       [12.842349  ,  1.0717227 , 10.939661  , 12.202095  ],\n",
       "       [11.090565  ,  0.87872046,  9.5141325 , 10.547126  ],\n",
       "       [ 9.338782  ,  0.6857188 ,  8.088605  ,  8.8921585 ],\n",
       "       [ 7.586999  ,  0.4927164 ,  6.6630764 ,  7.237191  ],\n",
       "       [ 5.8352156 ,  0.29971468,  5.237549  ,  5.5822234 ],\n",
       "       [ 4.0834317 ,  0.1067127 ,  3.8120208 ,  3.927256  ],\n",
       "       [ 2.3316486 , -0.08628947,  2.3864932 ,  2.272288  ],\n",
       "       [ 0.82125646, -0.27929142,  0.9609653 ,  0.6173205 ]],\n",
       "      dtype=float32)>"
      ]
     },
     "execution_count": 4,
     "metadata": {},
     "output_type": "execute_result"
    }
   ],
   "source": [
    "t = Maxoutlayer(5,4)\n",
    "g = t(a)\n",
    "g"
   ]
  },
  {
   "cell_type": "code",
   "execution_count": 5,
   "metadata": {
    "ExecuteTime": {
     "end_time": "2020-02-06T15:00:54.498091Z",
     "start_time": "2020-02-06T15:00:54.471161Z"
    }
   },
   "outputs": [
    {
     "data": {
      "text/plain": [
       "(<tf.Tensor: id=52, shape=(9,), dtype=float32, numpy=\n",
       " array([10.520277 ,  9.263957 ,  8.007636 ,  6.751316 ,  5.494996 ,\n",
       "         4.2386756,  2.982355 ,  1.7260351,  0.5300627], dtype=float32)>,\n",
       " <tf.Tensor: id=53, shape=(9,), dtype=float32, numpy=\n",
       " array([29.199844 , 22.839556 , 17.261106 , 12.4645   ,  8.449734 ,\n",
       "         5.2168055,  2.7657177,  1.0964712,  0.2332847], dtype=float32)>)"
      ]
     },
     "execution_count": 5,
     "metadata": {},
     "output_type": "execute_result"
    }
   ],
   "source": [
    "mean,variance = tf.nn.moments(g,-1)\n",
    "mean,variance"
   ]
  },
  {
   "cell_type": "code",
   "execution_count": 6,
   "metadata": {
    "ExecuteTime": {
     "end_time": "2020-02-06T15:00:54.541973Z",
     "start_time": "2020-02-06T15:00:54.510058Z"
    }
   },
   "outputs": [
    {
     "data": {
      "text/plain": [
       "(<tf.Tensor: id=68, shape=(9,), dtype=float32, numpy=\n",
       " array([-2.9802322e-08,  0.0000000e+00, -5.9604645e-08, -1.4901161e-08,\n",
       "        -1.1920929e-07,  1.4901161e-08,  1.4901161e-07, -1.4901161e-08,\n",
       "         8.9406967e-08], dtype=float32)>,\n",
       " <tf.Tensor: id=69, shape=(9,), dtype=float32, numpy=\n",
       " array([1.0000001 , 1.0000001 , 0.99999994, 1.        , 1.        ,\n",
       "        0.99999994, 1.        , 1.        , 1.        ], dtype=float32)>)"
      ]
     },
     "execution_count": 6,
     "metadata": {},
     "output_type": "execute_result"
    }
   ],
   "source": [
    "t = (g - tf.reshape(mean,(9,-1))) / tf.reshape(variance**0.5,(9,-1))\n",
    "tf.nn.moments(t,-1)"
   ]
  },
  {
   "cell_type": "markdown",
   "metadata": {},
   "source": [
    "# maxout activation function\n",
    "maxout作为激活函数时，只是筛选出在units和axis上最大的一组，不具备参数"
   ]
  },
  {
   "cell_type": "markdown",
   "metadata": {},
   "source": [
    "## TensorFlow Addons=0.8.0内置函数\n",
    "筛选为全体最大的选项\n",
    "- `num_units`为单元数，应为对应shape值的因数\n",
    "- `axis`为变化维度，关注shape变换\n"
   ]
  },
  {
   "cell_type": "code",
   "execution_count": 7,
   "metadata": {
    "ExecuteTime": {
     "end_time": "2020-02-06T15:00:54.604808Z",
     "start_time": "2020-02-06T15:00:54.549951Z"
    }
   },
   "outputs": [],
   "source": [
    "class Maxout(tf.keras.layers.Layer):\n",
    "    @typechecked\n",
    "    def __init__(self, num_units: int, axis: int = -1, **kwargs):\n",
    "        super().__init__(**kwargs)\n",
    "        self.num_units = num_units\n",
    "        self.axis = axis\n",
    "\n",
    "    def call(self, inputs):\n",
    "        inputs = tf.convert_to_tensor(inputs)\n",
    "        shape = inputs.get_shape().as_list()\n",
    "        # Dealing with batches with arbitrary sizes\n",
    "        for i in range(len(shape)):\n",
    "            if shape[i] is None:\n",
    "                shape[i] = tf.shape(inputs)[i]\n",
    "\n",
    "        num_channels = shape[self.axis]\n",
    "        if not isinstance(num_channels, tf.Tensor) and num_channels % self.num_units:\n",
    "            raise ValueError(\"number of features({}) is not \"\n",
    "                             \"a multiple of num_units({})\".format(num_channels, self.num_units))\n",
    "\n",
    "        if self.axis < 0:\n",
    "            axis = self.axis + len(shape)\n",
    "        else:\n",
    "            axis = self.axis\n",
    "        assert axis >= 0, \"Find invalid axis: {}\".format(self.axis)\n",
    "\n",
    "        expand_shape = shape[:]\n",
    "        expand_shape[axis] = self.num_units\n",
    "        k = num_channels // self.num_units\n",
    "        expand_shape.insert(axis, k)\n",
    "\n",
    "        outputs = tf.math.reduce_max(tf.reshape(inputs, expand_shape), axis, keepdims=False)\n",
    "        return outputs"
   ]
  },
  {
   "cell_type": "markdown",
   "metadata": {},
   "source": [
    "## tensorflow=1.13.1内的\n",
    "筛选为num_unit内的最大选项"
   ]
  },
  {
   "cell_type": "code",
   "execution_count": 8,
   "metadata": {
    "ExecuteTime": {
     "end_time": "2020-02-06T15:00:54.625749Z",
     "start_time": "2020-02-06T15:00:54.615775Z"
    }
   },
   "outputs": [],
   "source": [
    "# #调用tf 1使用\n",
    "# def maxout(inputs, num_units, axis=-1, scope=None):\n",
    "#     with variable_scope.variable_scope(scope, 'MaxOut', [inputs]):\n",
    "#         inputs = ops.convert_to_tensor(inputs)\n",
    "#         shape = inputs.get_shape().as_list()\n",
    "#         num_channels = shape[axis]\n",
    "#         if num_channels % num_units:\n",
    "#             raise ValueError('number of features({}) is not '\n",
    "#                            'a multiple of num_units({})'.format(\n",
    "#                                num_channels, num_units))\n",
    "#         shape[axis] = num_units\n",
    "#         shape += [num_channels // num_units]\n",
    "\n",
    "#         # Dealing with batches with arbitrary sizes\n",
    "#         for i in range(len(shape)):\n",
    "#             if shape[i] is None:\n",
    "#                 shape[i] = array_ops.shape(inputs)[i]\n",
    "#         outputs = math_ops.reduce_max(\n",
    "#             array_ops.reshape(inputs, shape), -1, keepdims=False)\n",
    "#         return outputs"
   ]
  },
  {
   "cell_type": "markdown",
   "metadata": {},
   "source": [
    "## 简化\n",
    "筛选为num_unit内的最大选项"
   ]
  },
  {
   "cell_type": "code",
   "execution_count": 9,
   "metadata": {
    "ExecuteTime": {
     "end_time": "2020-02-06T15:00:54.661651Z",
     "start_time": "2020-02-06T15:00:54.639712Z"
    }
   },
   "outputs": [],
   "source": [
    "class Maxout_af(tf.keras.layers.Layer):\n",
    "    def __init__(self, num_units: int, axis: int = -1, **kwargs):\n",
    "        super().__init__(**kwargs)\n",
    "        self.num_units = num_units\n",
    "        self.axis = axis\n",
    "    def call(self, inputs):\n",
    "        inputs = tf.convert_to_tensor(inputs)\n",
    "        shape = inputs.get_shape().as_list()\n",
    "        num_channels = shape[self.axis]\n",
    "        if num_channels % num_units:\n",
    "            raise ValueError('number of features({}) is not a multiple of num_units({})'.format(num_channels, num_units))\n",
    "        shape[axis] = -1\n",
    "        shape += [num_channels // num_units]\n",
    "        outputs = tf.math.reduce_max(tf.reshape(inputs, shape), -1, keepdims=False)\n",
    "        return outputs"
   ]
  },
  {
   "cell_type": "markdown",
   "metadata": {
    "ExecuteTime": {
     "end_time": "2020-02-06T12:46:44.908678Z",
     "start_time": "2020-02-06T12:46:44.892768Z"
    }
   },
   "source": [
    "## 例子"
   ]
  },
  {
   "cell_type": "code",
   "execution_count": 10,
   "metadata": {
    "ExecuteTime": {
     "end_time": "2020-02-06T15:00:54.689579Z",
     "start_time": "2020-02-06T15:00:54.669631Z"
    },
    "scrolled": true
   },
   "outputs": [
    {
     "data": {
      "text/plain": [
       "<tf.Tensor: id=75, shape=(5, 6, 3), dtype=int32, numpy=\n",
       "array([[[90, 89, 88],\n",
       "        [87, 86, 85],\n",
       "        [84, 83, 82],\n",
       "        [81, 80, 79],\n",
       "        [78, 77, 76],\n",
       "        [75, 74, 73]],\n",
       "\n",
       "       [[72, 71, 70],\n",
       "        [69, 68, 67],\n",
       "        [66, 65, 64],\n",
       "        [63, 62, 61],\n",
       "        [60, 59, 58],\n",
       "        [57, 56, 55]],\n",
       "\n",
       "       [[54, 53, 52],\n",
       "        [51, 50, 49],\n",
       "        [48, 47, 46],\n",
       "        [45, 44, 43],\n",
       "        [42, 41, 40],\n",
       "        [39, 38, 37]],\n",
       "\n",
       "       [[36, 35, 34],\n",
       "        [33, 32, 31],\n",
       "        [30, 29, 28],\n",
       "        [27, 26, 25],\n",
       "        [24, 23, 22],\n",
       "        [21, 20, 19]],\n",
       "\n",
       "       [[18, 17, 16],\n",
       "        [15, 14, 13],\n",
       "        [12, 11, 10],\n",
       "        [ 9,  8,  7],\n",
       "        [ 6,  5,  4],\n",
       "        [ 3,  2,  1]]])>"
      ]
     },
     "execution_count": 10,
     "metadata": {},
     "output_type": "execute_result"
    }
   ],
   "source": [
    "# 生成多维矩阵\n",
    "a = tf.range(90,0,-1)\n",
    "a = tf.reshape(a,[-1,6,3])\n",
    "a"
   ]
  },
  {
   "cell_type": "code",
   "execution_count": 11,
   "metadata": {
    "ExecuteTime": {
     "end_time": "2020-02-06T15:00:54.707530Z",
     "start_time": "2020-02-06T15:00:54.698553Z"
    }
   },
   "outputs": [],
   "source": [
    "# 设置 num_units 和 axis\n",
    "num_units = 1\n",
    "axis = 1"
   ]
  },
  {
   "cell_type": "code",
   "execution_count": 12,
   "metadata": {
    "ExecuteTime": {
     "end_time": "2020-02-06T15:00:54.763381Z",
     "start_time": "2020-02-06T15:00:54.716506Z"
    }
   },
   "outputs": [
    {
     "data": {
      "text/plain": [
       "<tf.Tensor: id=79, shape=(5, 1, 3), dtype=int32, numpy=\n",
       "array([[[90, 84, 78]],\n",
       "\n",
       "       [[72, 66, 60]],\n",
       "\n",
       "       [[54, 48, 42]],\n",
       "\n",
       "       [[36, 30, 24]],\n",
       "\n",
       "       [[18, 12,  6]]])>"
      ]
     },
     "execution_count": 12,
     "metadata": {},
     "output_type": "execute_result"
    }
   ],
   "source": [
    "# tensorflow 1 和简化版本取得是每几个中的最大的值\n",
    "# 重点关注当axis = 0时，是每几个数取最大值\n",
    "m_af = Maxout_af(num_units,axis)\n",
    "m_af(a)"
   ]
  },
  {
   "cell_type": "code",
   "execution_count": 13,
   "metadata": {
    "ExecuteTime": {
     "end_time": "2020-02-06T15:00:54.795297Z",
     "start_time": "2020-02-06T15:00:54.772356Z"
    }
   },
   "outputs": [
    {
     "data": {
      "text/plain": [
       "<tf.Tensor: id=83, shape=(5, 1, 3), dtype=int32, numpy=\n",
       "array([[[90, 89, 88]],\n",
       "\n",
       "       [[72, 71, 70]],\n",
       "\n",
       "       [[54, 53, 52]],\n",
       "\n",
       "       [[36, 35, 34]],\n",
       "\n",
       "       [[18, 17, 16]]])>"
      ]
     },
     "execution_count": 13,
     "metadata": {},
     "output_type": "execute_result"
    }
   ],
   "source": [
    "# tensorflow Addons取的是所有中最大的值\n",
    "# 重点关注当axis = 0时，是全部取最大值\n",
    "m = Maxout(num_units,axis)\n",
    "m(a)"
   ]
  },
  {
   "cell_type": "code",
   "execution_count": null,
   "metadata": {},
   "outputs": [],
   "source": []
  }
 ],
 "metadata": {
  "kernelspec": {
   "display_name": "Python [conda env:MLCPUfor3.7]",
   "language": "python",
   "name": "conda-env-MLCPUfor3.7-py"
  },
  "language_info": {
   "codemirror_mode": {
    "name": "ipython",
    "version": 3
   },
   "file_extension": ".py",
   "mimetype": "text/x-python",
   "name": "python",
   "nbconvert_exporter": "python",
   "pygments_lexer": "ipython3",
   "version": "3.7.4"
  },
  "toc": {
   "base_numbering": 1,
   "nav_menu": {},
   "number_sections": true,
   "sideBar": true,
   "skip_h1_title": false,
   "title_cell": "Table of Contents",
   "title_sidebar": "Contents",
   "toc_cell": false,
   "toc_position": {},
   "toc_section_display": true,
   "toc_window_display": false
  }
 },
 "nbformat": 4,
 "nbformat_minor": 2
}
